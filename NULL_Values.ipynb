{
 "cells": [
  {
   "cell_type": "code",
   "execution_count": null,
   "id": "3eccbd5b",
   "metadata": {},
   "outputs": [],
   "source": [
    "# to read the dataset into a dataframe and perform operations on it\n",
    "import pandas as pd\n",
    "# to perform basic array operations\n",
    "import numpy as np\n",
    "# for plotting and visualization\n",
    "import matplotlib.pyplot as plt\n",
    "import seaborn as sns\n",
    "# for Q-Q plots\n",
    "import scipy.stats as stats"
   ]
  },
  {
   "cell_type": "code",
   "execution_count": null,
   "id": "32d3d2ff",
   "metadata": {},
   "outputs": [],
   "source": [
    "data = pd.read_csv('https://raw.githubusercontent.com/laxmimerit/All-CSV-ML-Data-Files-Download/master/titanic.csv')"
   ]
  },
  {
   "cell_type": "code",
   "execution_count": null,
   "id": "0426d1c5",
   "metadata": {},
   "outputs": [],
   "source": [
    "data.head()"
   ]
  },
  {
   "cell_type": "markdown",
   "id": "f9e6fa1f",
   "metadata": {},
   "source": [
    "# Delete Rows with Missing Values:\n"
   ]
  },
  {
   "cell_type": "markdown",
   "id": "89731d3d",
   "metadata": {},
   "source": [
    "Missing values can be handled by deleting the rows or columns having null values. If columns have more than half of rows as null then the entire column can be dropped. The rows which are having one or more columns values as null can also be dropped."
   ]
  },
  {
   "cell_type": "markdown",
   "id": "0ce015ef",
   "metadata": {},
   "source": [
    "Pros:\n",
    "- A model trained with the removal of all missing values creates a robust model.\n",
    "\n",
    "Cons:\n",
    "- Loss of a lot of information.\n",
    "- Works poorly if the percentage of missing values is excessive in comparison to the complete dataset."
   ]
  },
  {
   "cell_type": "markdown",
   "id": "75f46262",
   "metadata": {},
   "source": [
    "# Impute missing values with Mean/Median:"
   ]
  },
  {
   "cell_type": "markdown",
   "id": "43c125b3",
   "metadata": {},
   "source": [
    "Columns in the dataset which are having numeric continuous values can be replaced with the mean, median, or mode of remaining values in the column. This method can prevent the loss of data compared to the earlier method. Replacing the above two approximations (mean, median) is a statistical approach to handle the missing values."
   ]
  },
  {
   "cell_type": "markdown",
   "id": "4ef6726e",
   "metadata": {},
   "source": [
    "The missing values are replaced by the mean value in the above example, in the same way, it can be replaced by the median value."
   ]
  },
  {
   "cell_type": "code",
   "execution_count": null,
   "id": "560839b7",
   "metadata": {},
   "outputs": [],
   "source": [
    "data[\"Age\"] = data[\"Age\"].replace(np.NaN, data[\"Age\"].mean())\n",
    "data[\"Age\"] = data[\"Age\"].replace(np.NaN, data[\"Age\"].median())"
   ]
  },
  {
   "cell_type": "markdown",
   "id": "4c29cd5a",
   "metadata": {},
   "source": [
    "Pros:\n",
    "- Prevent data loss which results in deletion of rows or columns\n",
    "- Works well with a small dataset and easy to implement.\n",
    "\n",
    "Cons:\n",
    "- Works only with numerical continuous variables.\n",
    "- Can cause data leakage\n",
    "- Does not factor the covariance between features"
   ]
  },
  {
   "cell_type": "markdown",
   "id": "fb9a0b49",
   "metadata": {},
   "source": [
    "# Imputation method for categorical columns"
   ]
  },
  {
   "cell_type": "markdown",
   "id": "e77c1c97",
   "metadata": {},
   "source": [
    "When missing values is from categorical columns (string or numerical) then the missing values can be replaced with the most frequent category. If the number of missing values is very large then it can be replaced with a new category."
   ]
  },
  {
   "cell_type": "markdown",
   "id": "901b5227",
   "metadata": {},
   "source": [
    "Pros:\n",
    "- Prevent data loss which results in deletion of rows or columns\n",
    "- Works well with a small dataset and easy to implement.\n",
    "- Negates the loss of data by adding a unique category\n",
    "\n",
    "Cons:\n",
    "- Works only with categorical variables.\n",
    "- Addition of new features to the model while encoding, which may result in poor performance"
   ]
  },
  {
   "cell_type": "markdown",
   "id": "cd37493d",
   "metadata": {},
   "source": [
    "# Other Imputation Methods:\n"
   ]
  },
  {
   "cell_type": "markdown",
   "id": "04b533a9",
   "metadata": {},
   "source": [
    "Depending on the nature of the data or data type, some other imputation methods may be more appropriate to impute missing values.\n",
    "For example, for the data variable having longitudinal behavior, it might make sense to use the last valid observation to fill the missing value. This is known as the Last observation carried forward (LOCF) method.\n"
   ]
  },
  {
   "cell_type": "code",
   "execution_count": null,
   "id": "0bdec903",
   "metadata": {},
   "outputs": [],
   "source": [
    "data[\"Age\"] = data[\"Age\"].fillna(method='ffill')"
   ]
  },
  {
   "cell_type": "code",
   "execution_count": null,
   "id": "f1a73ae0",
   "metadata": {},
   "outputs": [],
   "source": []
  },
  {
   "cell_type": "markdown",
   "id": "fd82958e",
   "metadata": {},
   "source": [
    "# Using Algorithms that support missing values:"
   ]
  },
  {
   "cell_type": "markdown",
   "id": "9f2d6287",
   "metadata": {},
   "source": [
    "All the machine learning algorithms don’t support missing values but some ML algorithms are robust to missing values in the dataset. The k-NN algorithm can ignore a column from a distance measure when a value is missing. Naive Bayes can also support missing values when making a prediction. These algorithms can be used when the dataset contains null or missing values.\n",
    "The sklearn implementations of naive Bayes and k-Nearest Neighbors in Python does not support the presence of the missing values.\n",
    "Another algorithm that can be used here is RandomForest that works well on non-linear and the categorical data. It adapts to the data structure taking into consideration the high variance or the bias, producing better results on large datasets."
   ]
  },
  {
   "cell_type": "markdown",
   "id": "d5044492",
   "metadata": {},
   "source": [
    "Pros:\n",
    "- No need to handle missing values in each column as ML algorithms will handle it efficiently\n",
    "\n",
    "Cons:\n",
    "- No implementation of these ML algorithms in the scikit-learn library.\n"
   ]
  },
  {
   "cell_type": "markdown",
   "id": "e2149d09",
   "metadata": {},
   "source": [
    "# Prediction of missing values:"
   ]
  },
  {
   "cell_type": "markdown",
   "id": "76668e4d",
   "metadata": {},
   "source": [
    "In the earlier methods to handle missing values, we do not use correlation advantage of the variable containing the missing value and other variables. Using the other features which don’t have nulls can be used to predict missing values.\n",
    "The regression or classification model can be used for the prediction of missing values depending on nature (categorical or continuous) of the feature having missing value."
   ]
  },
  {
   "cell_type": "code",
   "execution_count": null,
   "id": "aa181ee9",
   "metadata": {},
   "outputs": [],
   "source": [
    "from sklearn.linear_model import LinearRegression\n",
    "import pandas as pd\n",
    "\n",
    "data = pd.read_csv(\"train.csv\")\n",
    "data = data[[\"Survived\", \"Pclass\", \"Sex\", \"SibSp\", \"Parch\", \"Fare\", \"Age\"]]\n",
    "\n",
    "data[\"Sex\"] = [1 if x==\"male\" else 0 for x in data[\"Sex\"]]\n",
    "\n",
    "test_data = data[data[\"Age\"].isnull()]\n",
    "data.dropna(inplace=True)\n",
    "\n",
    "y_train = data[\"Age\"]\n",
    "X_train = data.drop(\"Age\", axis=1)\n",
    "X_test = test_data.drop(\"Age\", axis=1)\n",
    "\n",
    "model = LinearRegression()\n",
    "model.fit(X_train, y_train)\n",
    "\n",
    "y_pred = model.predict(X_test)"
   ]
  },
  {
   "cell_type": "markdown",
   "id": "9c4bfcf1",
   "metadata": {},
   "source": [
    "Pros:\n",
    "- Gives a better result than earlier methods\n",
    "- Takes into account the covariance between missing value column and other columns.\n",
    "\n",
    "Cons:\n",
    "- Considered only as a proxy for the true values"
   ]
  },
  {
   "cell_type": "markdown",
   "id": "4eb77439",
   "metadata": {},
   "source": [
    "# Imputation using Deep Learning Library — Datawig"
   ]
  },
  {
   "cell_type": "code",
   "execution_count": null,
   "id": "ee5df791",
   "metadata": {},
   "outputs": [],
   "source": [
    "#!pip install datawig"
   ]
  },
  {
   "cell_type": "code",
   "execution_count": 2,
   "id": "23fb53b8",
   "metadata": {},
   "outputs": [
    {
     "ename": "ModuleNotFoundError",
     "evalue": "No module named 'numpy.core._multiarray_umath'",
     "output_type": "error",
     "traceback": [
      "\u001b[0;31m---------------------------------------------------------------------------\u001b[0m",
      "\u001b[0;31mModuleNotFoundError\u001b[0m                       Traceback (most recent call last)",
      "\u001b[0;31mModuleNotFoundError\u001b[0m: No module named 'numpy.core._multiarray_umath'"
     ]
    },
    {
     "name": "stderr",
     "output_type": "stream",
     "text": [
      "/opt/anaconda3/lib/python3.7/site-packages/requests/__init__.py:80: RequestsDependencyWarning: urllib3 (1.25.11) or chardet (3.0.4) doesn't match a supported version!\n",
      "  RequestsDependencyWarning)\n"
     ]
    },
    {
     "ename": "NameError",
     "evalue": "name 'data' is not defined",
     "output_type": "error",
     "traceback": [
      "\u001b[0;31m---------------------------------------------------------------------------\u001b[0m",
      "\u001b[0;31mNameError\u001b[0m                                 Traceback (most recent call last)",
      "\u001b[0;32m<ipython-input-2-d6dcc9d916b9>\u001b[0m in \u001b[0;36m<module>\u001b[0;34m\u001b[0m\n\u001b[1;32m      3\u001b[0m \u001b[0;34m\u001b[0m\u001b[0m\n\u001b[1;32m      4\u001b[0m \u001b[0;34m\u001b[0m\u001b[0m\n\u001b[0;32m----> 5\u001b[0;31m \u001b[0mdf_train\u001b[0m\u001b[0;34m,\u001b[0m \u001b[0mdf_test\u001b[0m \u001b[0;34m=\u001b[0m \u001b[0mdatawig\u001b[0m\u001b[0;34m.\u001b[0m\u001b[0mutils\u001b[0m\u001b[0;34m.\u001b[0m\u001b[0mrandom_split\u001b[0m\u001b[0;34m(\u001b[0m\u001b[0mdata\u001b[0m\u001b[0;34m)\u001b[0m\u001b[0;34m\u001b[0m\u001b[0;34m\u001b[0m\u001b[0m\n\u001b[0m\u001b[1;32m      6\u001b[0m \u001b[0;34m\u001b[0m\u001b[0m\n\u001b[1;32m      7\u001b[0m \u001b[0;31m#Initialize a SimpleImputer model\u001b[0m\u001b[0;34m\u001b[0m\u001b[0;34m\u001b[0m\u001b[0;34m\u001b[0m\u001b[0m\n",
      "\u001b[0;31mNameError\u001b[0m: name 'data' is not defined"
     ]
    }
   ],
   "source": [
    "import pandas as pd\n",
    "import datawig\n",
    "\n",
    "\n",
    "df_train, df_test = datawig.utils.random_split(data)\n",
    "\n",
    "#Initialize a SimpleImputer model\n",
    "imputer = datawig.SimpleImputer(\n",
    "    input_columns=['Pclass','SibSp','Parch'], # column(s) containing information about the column we want to impute\n",
    "    output_column= 'Age', # the column we'd like to impute values for\n",
    "    output_path = 'imputer_model' # stores model data and metrics\n",
    "    )\n",
    "\n",
    "#Fit an imputer model on the train data\n",
    "imputer.fit(train_df=df_train, num_epochs=50)\n",
    "\n",
    "#Impute missing values and return original dataframe with predictions\n",
    "imputed = imputer.predict(df_test)"
   ]
  },
  {
   "cell_type": "code",
   "execution_count": null,
   "id": "7373c03d",
   "metadata": {},
   "outputs": [],
   "source": []
  },
  {
   "cell_type": "code",
   "execution_count": null,
   "id": "934af428",
   "metadata": {},
   "outputs": [],
   "source": [
    "pip install numpy==1.20.2"
   ]
  },
  {
   "cell_type": "code",
   "execution_count": null,
   "id": "cbaa9b26",
   "metadata": {},
   "outputs": [],
   "source": [
    "!pip3 uninstall numpy"
   ]
  },
  {
   "cell_type": "code",
   "execution_count": null,
   "id": "907f950b",
   "metadata": {},
   "outputs": [],
   "source": [
    "y"
   ]
  },
  {
   "cell_type": "code",
   "execution_count": null,
   "id": "e9566d64",
   "metadata": {},
   "outputs": [],
   "source": []
  },
  {
   "cell_type": "code",
   "execution_count": null,
   "id": "5e290ecc",
   "metadata": {},
   "outputs": [],
   "source": []
  },
  {
   "cell_type": "code",
   "execution_count": null,
   "id": "b5167cae",
   "metadata": {},
   "outputs": [],
   "source": []
  },
  {
   "cell_type": "code",
   "execution_count": null,
   "id": "b825f822",
   "metadata": {},
   "outputs": [],
   "source": []
  },
  {
   "cell_type": "code",
   "execution_count": null,
   "id": "18c3ef5a",
   "metadata": {},
   "outputs": [],
   "source": []
  },
  {
   "cell_type": "code",
   "execution_count": null,
   "id": "77961c85",
   "metadata": {},
   "outputs": [],
   "source": []
  },
  {
   "cell_type": "code",
   "execution_count": null,
   "id": "db0b10c3",
   "metadata": {},
   "outputs": [],
   "source": []
  }
 ],
 "metadata": {
  "kernelspec": {
   "display_name": "Python 3",
   "language": "python",
   "name": "python3"
  },
  "language_info": {
   "codemirror_mode": {
    "name": "ipython",
    "version": 3
   },
   "file_extension": ".py",
   "mimetype": "text/x-python",
   "name": "python",
   "nbconvert_exporter": "python",
   "pygments_lexer": "ipython3",
   "version": "3.7.6"
  },
  "toc": {
   "base_numbering": 1,
   "nav_menu": {},
   "number_sections": true,
   "sideBar": true,
   "skip_h1_title": false,
   "title_cell": "Table of Contents",
   "title_sidebar": "Contents",
   "toc_cell": false,
   "toc_position": {},
   "toc_section_display": true,
   "toc_window_display": false
  }
 },
 "nbformat": 4,
 "nbformat_minor": 5
}
